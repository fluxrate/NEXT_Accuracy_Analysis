{
 "cells": [
  {
   "cell_type": "code",
   "execution_count": 23,
   "metadata": {},
   "outputs": [],
   "source": [
    "from DLTools.ModelWrapper import ModelWrapper\n",
    "from keras.layers import Input, Dense, Layer,BatchNormalization,Dropout,Flatten,pooling,Activation\n",
    "import keras.models \n",
    "from keras.layers.convolutional import Conv3D\n",
    "from keras.models import Sequential"
   ]
  },
  {
   "cell_type": "code",
   "execution_count": 70,
   "metadata": {},
   "outputs": [],
   "source": [
    "class Conv_Sequential(ModelWrapper):\n",
    "    def __init__(self,Name,\n",
    "                 InputShape=(None, 4),\n",
    "                 Depth = 0,\n",
    "                 Widths = 0,\n",
    "                 Activation = 'relu',\n",
    "                 layers = None,\n",
    "                 Loss = \"mean_squared_logarithmic_error\",\n",
    "                 Optimizer = 'SGD',\n",
    "                 Metrics = 'accuracy'\n",
    "                  ):\n",
    "        super(Conv_Sequential,self).__init__(Name,Loss,Optimizer)\n",
    "        \n",
    "        self.InputShape = self.MetaData[\"InputShape\"] = InputShape\n",
    "        self.Depth = self.MetaData[\"Depth\"]= Depth\n",
    "        self.Widths = self.MetaData[\"Widths\"] = Widths\n",
    "        self.Activation = self.MetaData[\"Activation\"] = Activation\n",
    " \n",
    " #Creates a model based on sequential from Keras, and adds layers based on widths defined \n",
    "    def Build(self):\n",
    "        model = Sequential()\n",
    "        model.add(Activation('relu',input_shape=self.InputShape))\n",
    "        #Cycles through the list of widths for the model and adds layers\n",
    "        for i in xrange(0,self.Depth):\n",
    "            model.add(Dense(self.Widths,input_shape = self.InputShape))\n",
    "        #model.add(Activation('relu'))        \n",
    "        #Downscales from the input shape to a size of (100,100,100)\n",
    "        model.add(pooling.MaxPooling3D(pool_size=(2, 2, 2),strides = None))\n",
    "        model.add(Conv3D(15,(3,3,3),data_format='channels_first',input_shape=self.InputShape,padding= 'same'))\n",
    "        model.add(Dropout(0.1))\n",
    "        #drop out of 10% after the first convolutional net\n",
    "        model.add((Conv3D(30,(3,3,3),activation=self.Activation)))\n",
    "        model.add(Dropout(.05))\n",
    "        #drop out of 5% after the 2nd convolutional net\n",
    "        self.Model = model\n",
    "        #sets the model defined in build as the model"
   ]
  },
  {
   "cell_type": "code",
   "execution_count": 77,
   "metadata": {
    "scrolled": true
   },
   "outputs": [],
   "source": [
    "# Creates a Model based on the Class above with specified inputs/widths\n",
    "NextModel = Conv_Sequential(\"NextModel_Revised\",InputShape = (8, 200,200,200), Depth = 3,Widths = 4)\n",
    "NextModel.Build()"
   ]
  },
  {
   "cell_type": "code",
   "execution_count": 78,
   "metadata": {
    "collapsed": true
   },
   "outputs": [],
   "source": [
    "#compiles using DLKIt\n",
    "NextModel.Compile()"
   ]
  },
  {
   "cell_type": "code",
   "execution_count": 79,
   "metadata": {},
   "outputs": [
    {
     "name": "stdout",
     "output_type": "stream",
     "text": [
      "_________________________________________________________________\n",
      "Layer (type)                 Output Shape              Param #   \n",
      "=================================================================\n",
      "activation_19 (Activation)   (None, 8, 200, 200, 200)  0         \n",
      "_________________________________________________________________\n",
      "dense_40 (Dense)             (None, 8, 200, 200, 4)    804       \n",
      "_________________________________________________________________\n",
      "dense_41 (Dense)             (None, 8, 200, 200, 4)    20        \n",
      "_________________________________________________________________\n",
      "dense_42 (Dense)             (None, 8, 200, 200, 4)    20        \n",
      "_________________________________________________________________\n",
      "max_pooling3d_12 (MaxPooling (None, 4, 100, 100, 4)    0         \n",
      "_________________________________________________________________\n",
      "conv3d_20 (Conv3D)           (None, 15, 100, 100, 4)   1635      \n",
      "_________________________________________________________________\n",
      "dropout_17 (Dropout)         (None, 15, 100, 100, 4)   0         \n",
      "_________________________________________________________________\n",
      "conv3d_21 (Conv3D)           (None, 13, 98, 98, 30)    3270      \n",
      "_________________________________________________________________\n",
      "dropout_18 (Dropout)         (None, 13, 98, 98, 30)    0         \n",
      "=================================================================\n",
      "Total params: 5,749\n",
      "Trainable params: 5,749\n",
      "Non-trainable params: 0\n",
      "_________________________________________________________________\n"
     ]
    }
   ],
   "source": [
    "NextModel.Model.summary()"
   ]
  },
  {
   "cell_type": "code",
   "execution_count": 80,
   "metadata": {
    "collapsed": true
   },
   "outputs": [],
   "source": [
    "#Save model using DLKIT\n",
    "NextModel.Save()"
   ]
  },
  {
   "cell_type": "code",
   "execution_count": 7,
   "metadata": {},
   "outputs": [
    {
     "name": "stdout",
     "output_type": "stream",
     "text": [
      "NextModel_Test1\r\n"
     ]
    }
   ],
   "source": [
    "!ls TrainedModels/"
   ]
  },
  {
   "cell_type": "code",
   "execution_count": 115,
   "metadata": {},
   "outputs": [
    {
     "name": "stdout",
     "output_type": "stream",
     "text": [
      "{'Loss': 'mean_squared_logarithmic_error', 'Optimizer': None, 'Name': 'NextModel', 'InputMetaData': [{'Loss': 'mean_squared_logarithmic_error', 'Optimizer': None, 'Name': 'NextModel', 'InputMetaData': [], 'Widths': [10, 25, 50, 2], 'Activation': 'relu', 'InputShape': (200, 200, 200, 2), 'OutDir': 'TrainedModels/NextModel'}], 'Widths': [10, 25, 50, 2], 'Activation': 'relu', 'InputDir': 'TrainedModels/NextModel', 'InputShape': (200, 200, 200, 2), 'OutDir': 'TrainedModels/NextModel.1'}\n"
     ]
    }
   ],
   "source": [
    "#Example of Loading the Model Using DLKIt\n",
    "LoadTest =ModelWrapper(\"NextModel_Test1\") #insert name of model\n",
    "LoadTest.Load()\n",
    "print LoadTest.MetaData"
   ]
  }
 ],
 "metadata": {
  "kernelspec": {
   "display_name": "Python 2",
   "language": "python",
   "name": "python2"
  },
  "language_info": {
   "codemirror_mode": {
    "name": "ipython",
    "version": 2
   },
   "file_extension": ".py",
   "mimetype": "text/x-python",
   "name": "python",
   "nbconvert_exporter": "python",
   "pygments_lexer": "ipython2",
   "version": "2.7.12"
  }
 },
 "nbformat": 4,
 "nbformat_minor": 2
}
